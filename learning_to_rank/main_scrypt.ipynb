{
 "cells": [
  {
   "cell_type": "code",
   "execution_count": 1,
   "id": "ff451148",
   "metadata": {},
   "outputs": [],
   "source": [
    "import numpy as np\n",
    "import pandas as pd\n",
    "from lambdarank import *"
   ]
  },
  {
   "cell_type": "code",
   "execution_count": 2,
   "id": "645f3d27",
   "metadata": {},
   "outputs": [
    {
     "name": "stderr",
     "output_type": "stream",
     "text": [
      "100%|██████████| 5000/5000 [11:55:14<00:00,  8.58s/it]  \n",
      "100%|██████████| 5000/5000 [11:14<00:00,  7.41it/s]\n"
     ]
    }
   ],
   "source": [
    "model = LambdaRanker(n_estimators = 5000, max_depth = 9, learning_rate = 0.055, num_top = 5)\n",
    "model.load_train_data()\n",
    "model.fit()\n",
    "model.load_test_data()\n",
    "pred_test = model.predict()\n",
    "model.output_res(\"5000fnal.csv\", pred_test)"
   ]
  },
  {
   "cell_type": "code",
   "execution_count": 5,
   "id": "64c88e51",
   "metadata": {},
   "outputs": [
    {
     "name": "stderr",
     "output_type": "stream",
     "text": [
      "100%|██████████| 4500/4500 [10:09<00:00,  7.39it/s]\n"
     ]
    }
   ],
   "source": [
    "part = model.predict_partly(lim=4500)\n",
    "model.output_res(\"4500fnal.csv\", part)"
   ]
  },
  {
   "cell_type": "code",
   "execution_count": 6,
   "id": "116e0fc7",
   "metadata": {},
   "outputs": [
    {
     "name": "stderr",
     "output_type": "stream",
     "text": [
      "100%|██████████| 4000/4000 [09:12<00:00,  7.23it/s]\n"
     ]
    }
   ],
   "source": [
    "part = model.predict_partly(lim=4000)\n",
    "model.output_res(\"4000fnal.csv\", part)"
   ]
  },
  {
   "cell_type": "code",
   "execution_count": 7,
   "id": "108a5c33",
   "metadata": {},
   "outputs": [
    {
     "name": "stderr",
     "output_type": "stream",
     "text": [
      "100%|██████████| 3500/3500 [07:54<00:00,  7.37it/s]\n"
     ]
    }
   ],
   "source": [
    "part = model.predict_partly(lim=3500)\n",
    "model.output_res(\"3500fnal.csv\", part)"
   ]
  },
  {
   "cell_type": "code",
   "execution_count": 8,
   "id": "47fa796b",
   "metadata": {},
   "outputs": [
    {
     "name": "stderr",
     "output_type": "stream",
     "text": [
      "100%|██████████| 3000/3000 [06:40<00:00,  7.48it/s]\n"
     ]
    }
   ],
   "source": [
    "part = model.predict_partly(lim=3000)\n",
    "model.output_res(\"3000fnal.csv\", part)"
   ]
  },
  {
   "cell_type": "code",
   "execution_count": 9,
   "id": "5d8e5122",
   "metadata": {},
   "outputs": [
    {
     "name": "stderr",
     "output_type": "stream",
     "text": [
      "100%|██████████| 2900/2900 [06:30<00:00,  7.43it/s]\n"
     ]
    }
   ],
   "source": [
    "part = model.predict_partly(lim=2900)\n",
    "model.output_res(\"2900fnal.csv\", part)"
   ]
  },
  {
   "cell_type": "code",
   "execution_count": null,
   "id": "6728d4ab",
   "metadata": {},
   "outputs": [],
   "source": []
  }
 ],
 "metadata": {
  "kernelspec": {
   "display_name": "Python 3",
   "language": "python",
   "name": "python3"
  },
  "language_info": {
   "codemirror_mode": {
    "name": "ipython",
    "version": 3
   },
   "file_extension": ".py",
   "mimetype": "text/x-python",
   "name": "python",
   "nbconvert_exporter": "python",
   "pygments_lexer": "ipython3",
   "version": "3.8.8"
  }
 },
 "nbformat": 4,
 "nbformat_minor": 5
}
